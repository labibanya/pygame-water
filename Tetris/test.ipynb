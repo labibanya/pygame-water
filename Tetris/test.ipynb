{
 "cells": [
  {
   "cell_type": "code",
   "execution_count": 19,
   "metadata": {},
   "outputs": [
    {
     "name": "stdout",
     "output_type": "stream",
     "text": [
      "Desktop\n"
     ]
    }
   ],
   "source": [
    "import os\n",
    "\n",
    "def getFileNameByPath(path):\n",
    "    # 获取文件夹下所有文件名\n",
    "    # return os.path.basename(path)\n",
    "    return os.listdir(path)\n",
    "\n",
    "\n",
    "myPath = r'C:\\Users\\ch.com\\Desktop'\n",
    "\n",
    "nameList = getFileNameByPath(myPath)\n",
    "\n",
    "print(nameList)"
   ]
  }
 ],
 "metadata": {
  "kernelspec": {
   "display_name": "Python 3",
   "language": "python",
   "name": "python3"
  },
  "language_info": {
   "codemirror_mode": {
    "name": "ipython",
    "version": 3
   },
   "file_extension": ".py",
   "mimetype": "text/x-python",
   "name": "python",
   "nbconvert_exporter": "python",
   "pygments_lexer": "ipython3",
   "version": "3.11.4"
  },
  "orig_nbformat": 4
 },
 "nbformat": 4,
 "nbformat_minor": 2
}
