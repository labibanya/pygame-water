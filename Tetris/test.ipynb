{
 "cells": [
  {
   "cell_type": "code",
   "execution_count": 1,
   "metadata": {},
   "outputs": [
    {
     "ename": "FileNotFoundError",
     "evalue": "[Errno 2] No such file or directory: 'C:\\\\Users\\\\ch.com\\\\Desktop'",
     "output_type": "error",
     "traceback": [
      "\u001b[0;31m---------------------------------------------------------------------------\u001b[0m",
      "\u001b[0;31mFileNotFoundError\u001b[0m                         Traceback (most recent call last)",
      "\u001b[1;32m/Users/zhaoruiting/pythonProject/pygame/pygame-basic/pygame2/Tetris/test.ipynb 单元格 1\u001b[0m line \u001b[0;36m<cell line: 11>\u001b[0;34m()\u001b[0m\n\u001b[1;32m      <a href='vscode-notebook-cell:/Users/zhaoruiting/pythonProject/pygame/pygame-basic/pygame2/Tetris/test.ipynb#W0sZmlsZQ%3D%3D?line=5'>6</a>\u001b[0m     \u001b[39mreturn\u001b[39;00m os\u001b[39m.\u001b[39mlistdir(path)\n\u001b[1;32m      <a href='vscode-notebook-cell:/Users/zhaoruiting/pythonProject/pygame/pygame-basic/pygame2/Tetris/test.ipynb#W0sZmlsZQ%3D%3D?line=8'>9</a>\u001b[0m myPath \u001b[39m=\u001b[39m \u001b[39mr\u001b[39m\u001b[39m'\u001b[39m\u001b[39mC:\u001b[39m\u001b[39m\\\u001b[39m\u001b[39mUsers\u001b[39m\u001b[39m\\\u001b[39m\u001b[39mch.com\u001b[39m\u001b[39m\\\u001b[39m\u001b[39mDesktop\u001b[39m\u001b[39m'\u001b[39m\n\u001b[0;32m---> <a href='vscode-notebook-cell:/Users/zhaoruiting/pythonProject/pygame/pygame-basic/pygame2/Tetris/test.ipynb#W0sZmlsZQ%3D%3D?line=10'>11</a>\u001b[0m nameList \u001b[39m=\u001b[39m getFileNameByPath(myPath)\n\u001b[1;32m     <a href='vscode-notebook-cell:/Users/zhaoruiting/pythonProject/pygame/pygame-basic/pygame2/Tetris/test.ipynb#W0sZmlsZQ%3D%3D?line=12'>13</a>\u001b[0m \u001b[39mprint\u001b[39m(nameList)\n",
      "\u001b[1;32m/Users/zhaoruiting/pythonProject/pygame/pygame-basic/pygame2/Tetris/test.ipynb 单元格 1\u001b[0m line \u001b[0;36mgetFileNameByPath\u001b[0;34m(path)\u001b[0m\n\u001b[1;32m      <a href='vscode-notebook-cell:/Users/zhaoruiting/pythonProject/pygame/pygame-basic/pygame2/Tetris/test.ipynb#W0sZmlsZQ%3D%3D?line=2'>3</a>\u001b[0m \u001b[39mdef\u001b[39;00m \u001b[39mgetFileNameByPath\u001b[39m(path):\n\u001b[1;32m      <a href='vscode-notebook-cell:/Users/zhaoruiting/pythonProject/pygame/pygame-basic/pygame2/Tetris/test.ipynb#W0sZmlsZQ%3D%3D?line=3'>4</a>\u001b[0m     \u001b[39m# 获取文件夹下所有文件名\u001b[39;00m\n\u001b[1;32m      <a href='vscode-notebook-cell:/Users/zhaoruiting/pythonProject/pygame/pygame-basic/pygame2/Tetris/test.ipynb#W0sZmlsZQ%3D%3D?line=4'>5</a>\u001b[0m     \u001b[39m# return os.path.basename(path)\u001b[39;00m\n\u001b[0;32m----> <a href='vscode-notebook-cell:/Users/zhaoruiting/pythonProject/pygame/pygame-basic/pygame2/Tetris/test.ipynb#W0sZmlsZQ%3D%3D?line=5'>6</a>\u001b[0m     \u001b[39mreturn\u001b[39;00m os\u001b[39m.\u001b[39;49mlistdir(path)\n",
      "\u001b[0;31mFileNotFoundError\u001b[0m: [Errno 2] No such file or directory: 'C:\\\\Users\\\\ch.com\\\\Desktop'"
     ]
    }
   ],
   "source": [
    "import os\n",
    "\n",
    "def getFileNameByPath(path):\n",
    "    # 判断path是不是一个有效地址\n",
    "    if not os.path.exists(path):\n",
    "        return (path ,'is not exists!')\n",
    "    # 获取文件夹下所有文件名\n",
    "    # return os.path.basename(path)\n",
    "    return os.listdir(path)\n",
    "\n",
    "\n",
    "myPath = r'C:\\Users\\ch.com\\Desktop'\n",
    "\n",
    "nameList = getFileNameByPath(myPath)\n",
    "\n",
    "print(nameList)"
   ]
  }
 ],
 "metadata": {
  "kernelspec": {
   "display_name": "Python 3",
   "language": "python",
   "name": "python3"
  },
  "language_info": {
   "codemirror_mode": {
    "name": "ipython",
    "version": 3
   },
   "file_extension": ".py",
   "mimetype": "text/x-python",
   "name": "python",
   "nbconvert_exporter": "python",
   "pygments_lexer": "ipython3",
   "version": "3.8.11"
  },
  "orig_nbformat": 4
 },
 "nbformat": 4,
 "nbformat_minor": 2
}
